{
 "cells": [
  {
   "cell_type": "code",
   "execution_count": 22,
   "metadata": {},
   "outputs": [],
   "source": [
    "import pandas as pd\n",
    "import os"
   ]
  },
  {
   "cell_type": "code",
   "execution_count": 23,
   "metadata": {},
   "outputs": [
    {
     "name": "stdout",
     "output_type": "stream",
     "text": [
      "arabic_multimodal shape: (400, 9)\n",
      "hindi_multimodal shape: (400, 9)\n",
      "chinese_multimodal shape: (400, 9)\n",
      "french_multimodal shape: (400, 9)\n",
      "korean_multimodal shape: (400, 9)\n",
      "farsi_multimodal shape: (400, 9)\n",
      "italian_multimodal shape: (400, 9)\n",
      "german_multimodal shape: (400, 9)\n",
      "spanish_multimodal shape: (400, 9)\n",
      "russian_multimodal shape: (400, 9)\n"
     ]
    }
   ],
   "source": [
    "df_dict = {}\n",
    "\n",
    "for file in os.listdir('../data/response_annotations'):\n",
    "    if file.endswith('.csv') and \"english\" not in file:\n",
    "        df_dict[file[:-4]] = pd.read_csv(f'../data/response_annotations/{file}')\n",
    "\n",
    "        # print shape\n",
    "        print(f'{file[:-4]} shape: {df_dict[file[:-4]].shape}')"
   ]
  },
  {
   "cell_type": "code",
   "execution_count": 24,
   "metadata": {},
   "outputs": [],
   "source": [
    "# add translation prompt\n",
    "\n",
    "TEMPLATE = \"Translate the following text into English.\\n\\nTEXT: {text}\\n\\nTRANSLATION:\"\n",
    "\n",
    "for key in df_dict.keys():\n",
    "    df_dict[key]['translation_prompt'] = df_dict[key]['response'].apply(lambda x: TEMPLATE.format(text=x))\n",
    "\n",
    "    # save to csv\n",
    "    df_dict[key].to_csv(f'../data/translation_prompts/{key}.csv', index=False)\n",
    "\n"
   ]
  },
  {
   "cell_type": "code",
   "execution_count": 25,
   "metadata": {},
   "outputs": [
    {
     "name": "stdout",
     "output_type": "stream",
     "text": [
      "arabic_multimodal shape: (400, 12)\n",
      "hindi_multimodal shape: (400, 12)\n",
      "chinese_multimodal shape: (400, 12)\n",
      "french_multimodal shape: (400, 12)\n",
      "korean_multimodal shape: (400, 12)\n",
      "farsi_multimodal shape: (400, 12)\n",
      "italian_multimodal shape: (400, 12)\n",
      "german_multimodal shape: (400, 12)\n",
      "spanish_multimodal shape: (400, 12)\n",
      "russian_multimodal shape: (400, 12)\n"
     ]
    }
   ],
   "source": [
    "translated_dict = {}\n",
    "\n",
    "for file in os.listdir('../data/translation_responses'):\n",
    "    if file.endswith('.csv'):\n",
    "        translated_dict[file[:-4]] = pd.read_csv(f'../data/translation_responses/{file}')\n",
    "\n",
    "        # print shape\n",
    "        print(f'{file[:-4]} shape: {translated_dict[file[:-4]].shape}')\n",
    "\n",
    "# merge translation responses onto df_dict\n",
    "for key in df_dict.keys():\n",
    "    df_dict[key] = df_dict[key].merge(translated_dict[key][['case_id','model', 'response_translated']], on=['case_id','model'], how='left')\n",
    "\n",
    "    # save to csv\n",
    "    df_dict[key].to_csv(f'../data/translation_responses/{key}.csv', index=False)"
   ]
  }
 ],
 "metadata": {
  "kernelspec": {
   "display_name": "realpoliticalprompts",
   "language": "python",
   "name": "realpoliticalprompts"
  },
  "language_info": {
   "codemirror_mode": {
    "name": "ipython",
    "version": 3
   },
   "file_extension": ".py",
   "mimetype": "text/x-python",
   "name": "python",
   "nbconvert_exporter": "python",
   "pygments_lexer": "ipython3",
   "version": "3.11.3"
  }
 },
 "nbformat": 4,
 "nbformat_minor": 2
}
